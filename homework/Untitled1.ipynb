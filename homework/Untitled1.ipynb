{
 "cells": [
  {
   "cell_type": "code",
   "execution_count": 3,
   "metadata": {},
   "outputs": [],
   "source": [
    "import numpy as np\n",
    "import matplotlib.pyplot as plt"
   ]
  },
  {
   "cell_type": "code",
   "execution_count": null,
   "metadata": {},
   "outputs": [],
   "source": [
    "w = 3\n",
    "b = 0.5\n",
    "\n",
    "x_lin = np.linspace(0, 100, 101)\n",
    "\n",
    "y = (x_lin + np.random.randn(101) * 5) * w + b\n",
    "\n",
    "plt.plot(x_lin, y, 'b.', label = 'data points')\n",
    "plt.title(\"Assume we have data points\")\n",
    "plt.legend(loc = 2)\n",
    "plt.show()"
   ]
  },
  {
   "cell_type": "code",
   "execution_count": null,
   "metadata": {},
   "outputs": [],
   "source": [
    "  DAY1 \n",
    "作業1：\n",
    "https://www.kaggle.com/c/landmark-retrieval-2019/overview\n",
    "1.我認為這組資料重要的地方很符合公眾利益，可以藉此讓喜歡拍攝的人利用資料尋找到相關地標。\n",
    "2.google提供去年相同的測試與指數集，及發布一個包含超過100K獨特地標的700K圖像的全新數據集。\n",
    "3.此資料為非結構化，使用圖像及文字。\n",
    "4.這組資料想解決的問題是，當我們擁有某個地標的圖片，卻不知道該地標的名稱及地點等相關資訊時。\n",
    "作業2：\n",
    "1.我認為提升業績重要的其中一個項目就是減少司機尋客繞行的行為，可採用線上預訂的方式，降低繞行尋客金錢上的成本及時間上的成本。\n",
    "2.資料的蒐集是透過駕駛派遣系統的GPS記錄與資訊。\n",
    "3.蒐集而來的資料型態為結構化，使用駕駛派遣系統提供的相關數值。\n",
    "4.將GPS記錄的相關資訊回傳，進行資料轉換與分析，在演算成果。\n"
   ]
  }
 ],
 "metadata": {
  "kernelspec": {
   "display_name": "Python 3",
   "language": "python",
   "name": "python3"
  },
  "language_info": {
   "codemirror_mode": {
    "name": "ipython",
    "version": 3
   },
   "file_extension": ".py",
   "mimetype": "text/x-python",
   "name": "python",
   "nbconvert_exporter": "python",
   "pygments_lexer": "ipython3",
   "version": "3.7.3"
  }
 },
 "nbformat": 4,
 "nbformat_minor": 2
}
